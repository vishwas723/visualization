{
 "cells": [
  {
   "cell_type": "markdown",
   "metadata": {
    "id": "HWR8M_FM0kCa"
   },
   "source": [
    "# Brain Space Visualization of Deviation Scores"
   ]
  },
  {
   "cell_type": "markdown",
   "metadata": {
    "id": "nEkEuf7H0kCb"
   },
   "source": [
    "## Count the number of extreme (positive & negative) deviations at each brain region and visualize the count for each hemisphere."
   ]
  },
  {
   "cell_type": "code",
   "execution_count": null,
   "metadata": {
    "id": "SdVyEOWVJNyy"
   },
   "outputs": [],
   "source": [
    "! git clone https://github.com/saigerutherford/CPC_ML_tutorial.git"
   ]
  },
  {
   "cell_type": "code",
   "execution_count": null,
   "metadata": {
    "id": "6c0O3oKQ0kCW"
   },
   "outputs": [],
   "source": [
    "import os\n",
    "import pandas as pd\n",
    "import numpy as np\n",
    "import matplotlib.pyplot as plt\n",
    "import seaborn as sns"
   ]
  },
  {
   "cell_type": "code",
   "execution_count": null,
   "metadata": {
    "id": "XwQOtrKmKd-T"
   },
   "outputs": [],
   "source": [
    "os.chdir('/content/CPC_ML_tutorial')"
   ]
  },
  {
   "cell_type": "code",
   "execution_count": null,
   "metadata": {
    "id": "bruuGS8Z0kCb"
   },
   "outputs": [],
   "source": [
    "Z_df = pd.read_csv('data/Z_long_format.csv')"
   ]
  },
  {
   "cell_type": "code",
   "execution_count": null,
   "metadata": {
    "id": "CtDtz47p0kCn"
   },
   "outputs": [],
   "source": [
    "# Change this threshold to view more or less extreme deviations.\n",
    "# Discuss with your partner what you think is an appropriate threshold and adjust the below variables accordingly.\n",
    "Z_positive = Z_df.query('value > 2')\n",
    "Z_negative = Z_df.query('value < -2')"
   ]
  },
  {
   "cell_type": "code",
   "execution_count": null,
   "metadata": {
    "id": "OCrM8a-c0kCn"
   },
   "outputs": [],
   "source": [
    "positive_left_z = Z_positive.query('hemi == \"left\"')\n",
    "positive_right_z = Z_positive.query('hemi == \"right\"')\n",
    "positive_sc_z = Z_positive.query('hemi == \"subcortical\"')\n",
    "negative_left_z = Z_negative.query('hemi == \"left\"')\n",
    "negative_right_z = Z_negative.query('hemi == \"right\"')\n",
    "negative_sc_z = Z_negative.query('hemi == \"subcortical\"')"
   ]
  },
  {
   "cell_type": "code",
   "execution_count": null,
   "metadata": {
    "id": "2oeEd6Ay0kCo"
   },
   "outputs": [],
   "source": [
    "positive_left_z2 = positive_left_z['ROI_name'].value_counts().rename_axis('ROI').reset_index(name='counts')\n",
    "positive_right_z2 = positive_right_z['ROI_name'].value_counts().rename_axis('ROI').reset_index(name='counts')\n",
    "positive_sc_z2 = positive_sc_z['ROI_name'].value_counts().rename_axis('ROI').reset_index(name='counts')\n",
    "negative_left_z2 = negative_left_z['ROI_name'].value_counts().rename_axis('ROI').reset_index(name='counts')\n",
    "negative_right_z2 = negative_right_z['ROI_name'].value_counts().rename_axis('ROI').reset_index(name='counts')\n",
    "negative_sc_z2 = negative_sc_z['ROI_name'].value_counts().rename_axis('ROI').reset_index(name='counts')"
   ]
  },
  {
   "cell_type": "code",
   "execution_count": null,
   "metadata": {
    "id": "NlTVUuR6TyXq"
   },
   "outputs": [],
   "source": [
    "positive_left_z2.describe()"
   ]
  },
  {
   "cell_type": "code",
   "execution_count": null,
   "metadata": {
    "id": "ugzcZHLDT8ve"
   },
   "outputs": [],
   "source": [
    "positive_right_z2.describe()"
   ]
  },
  {
   "cell_type": "code",
   "execution_count": null,
   "metadata": {
    "id": "ugzcZHLDT8ve"
   },
   "outputs": [],
   "source": [
    "positive_sc_z2.describe()"
   ]
  },
  {
   "cell_type": "code",
   "execution_count": null,
   "metadata": {
    "id": "NlTVUuR6TyXq"
   },
   "outputs": [],
   "source": [
    "negative_left_z2.describe()"
   ]
  },
  {
   "cell_type": "code",
   "execution_count": null,
   "metadata": {
    "id": "ugzcZHLDT8ve"
   },
   "outputs": [],
   "source": [
    "negative_right_z2.describe()"
   ]
  },
  {
   "cell_type": "code",
   "execution_count": null,
   "metadata": {
    "id": "ugzcZHLDT8ve"
   },
   "outputs": [],
   "source": [
    "negative_sc_z2.describe()"
   ]
  },
  {
   "cell_type": "code",
   "execution_count": null,
   "metadata": {
    "id": "BikyDuO_K_I3"
   },
   "outputs": [],
   "source": [
    "! pip install nilearn"
   ]
  },
  {
   "cell_type": "code",
   "execution_count": null,
   "metadata": {
    "id": "mzYmi_cK0kCo"
   },
   "outputs": [],
   "source": [
    "from nilearn import plotting\n",
    "import nibabel as nib\n",
    "from nilearn import datasets"
   ]
  },
  {
   "cell_type": "code",
   "execution_count": null,
   "metadata": {
    "id": "jxRXeYHd0kCp"
   },
   "outputs": [],
   "source": [
    "destrieux_atlas = datasets.fetch_atlas_surf_destrieux()\n",
    "fsaverage = datasets.fetch_surf_fsaverage()"
   ]
  },
  {
   "cell_type": "code",
   "execution_count": null,
   "metadata": {
    "id": "18hyJU3Z0kCp"
   },
   "outputs": [],
   "source": [
    "# The parcellation is already loaded into memory\n",
    "parcellation_l = destrieux_atlas['map_left']\n",
    "parcellation_r = destrieux_atlas['map_right']"
   ]
  },
  {
   "cell_type": "code",
   "execution_count": null,
   "metadata": {
    "id": "9ewObTkj0kCp"
   },
   "outputs": [],
   "source": [
    "nl = pd.read_csv('data/nilearn_order.csv')"
   ]
  },
  {
   "cell_type": "code",
   "execution_count": null,
   "metadata": {
    "id": "RoAgRhiO0kCq"
   },
   "outputs": [],
   "source": [
    "atlas_r = destrieux_atlas['map_right']\n",
    "atlas_l = destrieux_atlas['map_left']"
   ]
  },
  {
   "cell_type": "code",
   "execution_count": null,
   "metadata": {
    "id": "gvN_Slut0kCq"
   },
   "outputs": [],
   "source": [
    "nl_ROI = nl['ROI'].to_list()"
   ]
  },
  {
   "cell_type": "markdown",
   "metadata": {
    "id": "T8wirzP50kCq"
   },
   "source": [
    "# Extreme positive deviation viz"
   ]
  },
  {
   "cell_type": "code",
   "execution_count": null,
   "metadata": {
    "id": "sVur0mfY0kCq"
   },
   "outputs": [],
   "source": [
    "nl_positive_left = pd.merge(nl, positive_left_z2, on='ROI', how='left')\n",
    "nl_positive_right = pd.merge(nl, positive_right_z2, on='ROI', how='left')"
   ]
  },
  {
   "cell_type": "code",
   "execution_count": null,
   "metadata": {
    "id": "V1b4dXlB0kCq"
   },
   "outputs": [],
   "source": [
    "nl_positive_left['counts'] = nl_positive_right['counts'].fillna(0)\n",
    "nl_positive_right['counts'] = nl_positive_right['counts'].fillna(0)"
   ]
  },
  {
   "cell_type": "code",
   "execution_count": null,
   "metadata": {
    "id": "6TIc-8JE0kCr"
   },
   "outputs": [],
   "source": [
    "nl_positive_left = nl_positive_left['counts'].to_numpy()\n",
    "nl_positive_right = nl_positive_right['counts'].to_numpy()"
   ]
  },
  {
   "cell_type": "code",
   "execution_count": null,
   "metadata": {
    "id": "dpFgV9610kCr"
   },
   "outputs": [],
   "source": [
    "a_list = list(range(1, 76))\n",
    "parcellation_positive_l = atlas_l\n",
    "for i, j in enumerate(a_list):\n",
    "    parcellation_positive_l = np.where(parcellation_positive_l == j, nl_positive_left[i], parcellation_positive_l)"
   ]
  },
  {
   "cell_type": "code",
   "execution_count": null,
   "metadata": {
    "id": "LEb86JQP0kCr"
   },
   "outputs": [],
   "source": [
    "a_list = list(range(1, 76))\n",
    "parcellation_positive_r = atlas_r\n",
    "for i, j in enumerate(a_list):\n",
    "    parcellation_positive_r = np.where(parcellation_positive_r == j, nl_positive_right[i], parcellation_positive_r)"
   ]
  },
  {
   "cell_type": "code",
   "execution_count": null,
   "metadata": {
    "id": "Uvo8bs0J0kCr"
   },
   "outputs": [],
   "source": [
    "# you can click around in 3D space on this visualization. Scroll in/out, move the brain around, etc. Have fun with it :) \n",
    "view = plotting.view_surf(fsaverage.infl_right, parcellation_positive_r, threshold=None, symmetric_cmap=False, cmap='plasma', bg_map=fsaverage.sulc_right)\n",
    "\n",
    "view"
   ]
  },
  {
   "cell_type": "code",
   "execution_count": null,
   "metadata": {
    "id": "knItaGcv0kCr"
   },
   "outputs": [],
   "source": [
    "view = plotting.view_surf(fsaverage.infl_left, parcellation_positive_l, threshold=None, symmetric_cmap=False, cmap='plasma', bg_map=fsaverage.sulc_left)\n",
    "\n",
    "view"
   ]
  },
  {
   "cell_type": "markdown",
   "metadata": {
    "id": "k-ASdN3T0kCr"
   },
   "source": [
    "# Extreme negative deviation viz"
   ]
  },
  {
   "cell_type": "code",
   "execution_count": null,
   "metadata": {
    "id": "8jEf15fg0kCr"
   },
   "outputs": [],
   "source": [
    "nl_negative_left = pd.merge(nl, negative_left_z2, on='ROI', how='left')\n",
    "nl_negative_right = pd.merge(nl, negative_right_z2, on='ROI', how='left')"
   ]
  },
  {
   "cell_type": "code",
   "execution_count": null,
   "metadata": {
    "id": "TcPzp2ZC0kCr"
   },
   "outputs": [],
   "source": [
    "nl_negative_left['counts'] = nl_negative_left['counts'].fillna(0)\n",
    "nl_negative_right['counts'] = nl_negative_right['counts'].fillna(0)"
   ]
  },
  {
   "cell_type": "code",
   "execution_count": null,
   "metadata": {
    "id": "KIoAvRlN0kCs"
   },
   "outputs": [],
   "source": [
    "nl_negative_left = nl_negative_left['counts'].to_numpy()\n",
    "nl_negative_right = nl_negative_right['counts'].to_numpy()"
   ]
  },
  {
   "cell_type": "code",
   "execution_count": null,
   "metadata": {
    "id": "Ksv8QuLW0kCs"
   },
   "outputs": [],
   "source": [
    "a_list = list(range(1, 76))\n",
    "parcellation_negative_l = atlas_l\n",
    "for i, j in enumerate(a_list):\n",
    "    parcellation_negative_l = np.where(parcellation_negative_l == j, nl_negative_left[i], parcellation_negative_l)"
   ]
  },
  {
   "cell_type": "code",
   "execution_count": null,
   "metadata": {
    "id": "QXmjD4jQ0kCs"
   },
   "outputs": [],
   "source": [
    "a_list = list(range(1, 76))\n",
    "parcellation_negative_r = atlas_r\n",
    "for i, j in enumerate(a_list):\n",
    "    parcellation_negative_r = np.where(parcellation_negative_r == j, nl_negative_right[i], parcellation_negative_r)"
   ]
  },
  {
   "cell_type": "code",
   "execution_count": null,
   "metadata": {
    "id": "suomHT4C0kCs"
   },
   "outputs": [],
   "source": [
    "view = plotting.view_surf(fsaverage.infl_right, parcellation_negative_r, threshold=None, symmetric_cmap=False, cmap='plasma', bg_map=fsaverage.sulc_right)\n",
    "\n",
    "view"
   ]
  },
  {
   "cell_type": "code",
   "execution_count": null,
   "metadata": {
    "id": "FbbhY4L80kCs"
   },
   "outputs": [],
   "source": [
    "view = plotting.view_surf(fsaverage.infl_left, parcellation_negative_l, threshold=None, symmetric_cmap=False, cmap='plasma', bg_map=fsaverage.sulc_left)\n",
    "\n",
    "view"
   ]
  }
 ],
 "metadata": {
  "colab": {
   "name": "3_Visualizations.ipynb",
   "provenance": [],
   "toc_visible": true
  },
  "kernelspec": {
   "display_name": "Python 3",
   "language": "python",
   "name": "python3"
  },
  "language_info": {
   "codemirror_mode": {
    "name": "ipython",
    "version": 3
   },
   "file_extension": ".py",
   "mimetype": "text/x-python",
   "name": "python",
   "nbconvert_exporter": "python",
   "pygments_lexer": "ipython3",
   "version": "3.8.8"
  }
 },
 "nbformat": 4,
 "nbformat_minor": 4
}
