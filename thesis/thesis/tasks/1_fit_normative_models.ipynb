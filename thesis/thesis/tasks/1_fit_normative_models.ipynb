{
 "cells": [
  {
   "cell_type": "markdown",
   "id": "4b64f505-ad16-437a-94de-2646f35ae55f",
   "metadata": {
    "id": "4b64f505-ad16-437a-94de-2646f35ae55f"
   },
   "source": [
    "## Estimating lifespan normative models\n",
    "\n",
    "This notebook provides a complete walkthrough for an analysis of normative modelling using your own dataset. Training and testing data is provided for this tutorial. However, the idea is that you could subsitute our provided training and testing datasets for you own dataset (as long as it matches the same format!)\n",
    "\n",
    "First, if necessary, we install PCNtoolkit (note: this tutorial requires at least version 0.20)"
   ]
  },
  {
   "cell_type": "code",
   "execution_count": null,
   "id": "84ec2ca6-c0a2-4abf-8f05-29edc9e0fa24",
   "metadata": {
    "id": "84ec2ca6-c0a2-4abf-8f05-29edc9e0fa24"
   },
   "outputs": [],
   "source": [
    "# Make sure to click the restart runtime button at the \n",
    "# bottom of this code blocks' output (after you run the cell)\n",
    "! pip install pcntoolkit==0.20"
   ]
  },
  {
   "cell_type": "markdown",
   "id": "909c3b45-ad46-4e6d-8732-dc5ac68488c6",
   "metadata": {
    "id": "909c3b45-ad46-4e6d-8732-dc5ac68488c6"
   },
   "source": [
    "Then we import the required libraries"
   ]
  },
  {
   "cell_type": "code",
   "execution_count": null,
   "id": "DGQhP2LbElmI",
   "metadata": {
    "id": "DGQhP2LbElmI"
   },
   "outputs": [],
   "source": [
    "! git clone https://github.com/saigerutherford/CPC_ML_tutorial.git"
   ]
  },
  {
   "cell_type": "code",
   "execution_count": 14,
   "id": "d451c106-08e2-4f5b-baf9-da240768e68b",
   "metadata": {
    "id": "d451c106-08e2-4f5b-baf9-da240768e68b"
   },
   "outputs": [],
   "source": [
    "# we need to be in the CPC_ML_tutorial folder when we import the libraries in the code block below,\n",
    "# because there is a function called nm_utils that is in this folder that we need to import\n",
    "import os\n",
    "os.chdir('/content/CPC_ML_tutorial/')"
   ]
  },
  {
   "cell_type": "code",
   "execution_count": 15,
   "id": "83c494d3-6ebd-4cde-aff0-8fc9344374dd",
   "metadata": {
    "id": "83c494d3-6ebd-4cde-aff0-8fc9344374dd"
   },
   "outputs": [],
   "source": [
    "import numpy as np\n",
    "import pandas as pd\n",
    "import pickle\n",
    "from matplotlib import pyplot as plt\n",
    "import seaborn as sns\n",
    "\n",
    "from pcntoolkit.normative import estimate, predict, evaluate\n",
    "from pcntoolkit.util.utils import compute_MSLL, create_design_matrix\n",
    "from nm_utils import calibration_descriptives, remove_bad_subjects, load_2d"
   ]
  },
  {
   "cell_type": "markdown",
   "id": "9822cc19-48e9-428b-8c5e-e059fd2d23f7",
   "metadata": {
    "id": "9822cc19-48e9-428b-8c5e-e059fd2d23f7"
   },
   "source": [
    "Now, we configure the locations in which the data are stored. \n",
    "\n",
    "**Notes:** \n",
    "- The data are assumed to be in CSV format and will be loaded as pandas dataframes\n",
    "- Generally the raw data will be in a different location to the analysis\n",
    "- The data can have arbitrary columns but some are required by the script, i.e. 'age', 'sex' and 'site', plus the phenotypes you wish to estimate (see below)"
   ]
  },
  {
   "cell_type": "code",
   "execution_count": 16,
   "id": "7da01c88-7033-498b-a811-79ad58e8c17a",
   "metadata": {
    "id": "7da01c88-7033-498b-a811-79ad58e8c17a"
   },
   "outputs": [],
   "source": [
    "# where the raw data are stored\n",
    "data_dir = '/content/CPC_ML_tutorial/data/'\n",
    "\n",
    "# where the analysis takes place\n",
    "root_dir = '/content/CPC_ML_tutorial/'\n",
    "out_dir = os.path.join(root_dir,'models','test')\n",
    "\n",
    "# create the output directory if it does not already exist\n",
    "os.makedirs(out_dir, exist_ok=True)"
   ]
  },
  {
   "cell_type": "markdown",
   "id": "01141f19-a960-4823-baad-8604975304c3",
   "metadata": {
    "id": "01141f19-a960-4823-baad-8604975304c3"
   },
   "source": [
    "Now we load the data. \n",
    "\n",
    "We will load one pandas dataframe for the training set and one dataframe for the test set. We also configure a list of site ids."
   ]
  },
  {
   "cell_type": "code",
   "execution_count": 17,
   "id": "850fee6b-421f-41d9-8fd6-7e1dafbf0e9f",
   "metadata": {
    "id": "850fee6b-421f-41d9-8fd6-7e1dafbf0e9f"
   },
   "outputs": [],
   "source": [
    "df_tr = pd.read_csv(os.path.join(data_dir,'train_data.csv'), index_col=0) \n",
    "df_te = pd.read_csv(os.path.join(data_dir,'test_data.csv'), index_col=0)\n",
    "\n",
    "# extract a list of unique site ids from the training set\n",
    "site_ids =  sorted(set(df_tr['site'].to_list()))"
   ]
  },
  {
   "cell_type": "markdown",
   "id": "29f9593a-d3c9-4d08-a877-8794203c0001",
   "metadata": {
    "id": "29f9593a-d3c9-4d08-a877-8794203c0001"
   },
   "source": [
    "### Configure which models to fit\n",
    "\n",
    "Next, we load the image derived phenotypes (IDPs) which we will process in this analysis. This is effectively just a list of columns in your dataframe. Here we estimate normative models for the left hemisphere, right hemisphere and cortical structures."
   ]
  },
  {
   "cell_type": "code",
   "execution_count": null,
   "id": "7438ef7e-9340-4f13-8d57-816918923705",
   "metadata": {
    "id": "7438ef7e-9340-4f13-8d57-816918923705"
   },
   "outputs": [],
   "source": [
    "# we choose here to process all idps. Uncomment lines 2-7 (and comment line 11) to run models for the whole brain, but we suggest just starting with several ROIs\n",
    "#os.chdir(root_dir)\n",
    "#!wget -nc https://raw.githubusercontent.com/saigerutherford/CPC_ML_tutorial/master/data/task1_phenotypes.txt\n",
    "#with open(os.path.join(root_dir,'task1_phenotypes.txt')) as f:\n",
    "#  idp_ids = f.read().splitlines()\n",
    "#for idx, ele in enumerate(idp_ids):\n",
    "#        idp_ids[idx] = ele.replace('\\t', '')\n",
    "\n",
    "# we could also just specify a list of IDPs. Use this line to run just 2 models (not the whole brain)...this is a good place to start. If you have time,\n",
    "# you can uncomment the above line and run the whole brain models. Be sure to comment out this line if you uncomment the above line. \n",
    "idp_ids = ['lh_MeanThickness_thickness', 'rh_MeanThickness_thickness']"
   ]
  },
  {
   "cell_type": "markdown",
   "id": "5d791db6-8fe5-450c-88eb-84a390b8753a",
   "metadata": {
    "id": "5d791db6-8fe5-450c-88eb-84a390b8753a"
   },
   "source": [
    "### Configure model parameters\n",
    "\n",
    "Now, we configure some parameters for the regression model we use to fit the normative model. Here we will use a 'warped' Bayesian linear regression model. To model non-Gaussianity, we select a sin arcsinh warp and to model non-linearity, we stick with the default value for the basis expansion (a cubic b-spline basis set with 5 knot points). Since we are sticking with the default value, we do not need to specify any parameters for this, but we do need to specify the limits. We choose to pad the input by a few years either side of the input range. We will also set a couple of options that control the estimation of the model\n",
    "\n",
    "For further details about the likelihood warping approach, see [Fraza et al 2021](https://www.biorxiv.org/content/10.1101/2021.04.05.438429v1)."
   ]
  },
  {
   "cell_type": "code",
   "execution_count": null,
   "id": "0IYl-eg2xGWE",
   "metadata": {
    "id": "0IYl-eg2xGWE"
   },
   "outputs": [],
   "source": [
    "# check the min & max age of the dataset, use this info to update the xmin & xmax variables in the code block below. \n",
    "df_tr['age'].describe()"
   ]
  },
  {
   "cell_type": "code",
   "execution_count": 22,
   "id": "e44e257c-676e-49d8-89ec-657e506c3b74",
   "metadata": {
    "id": "e44e257c-676e-49d8-89ec-657e506c3b74"
   },
   "outputs": [],
   "source": [
    "# which data columns do we wish to use as covariates? \n",
    "# You could add additional covariates from your own dataset here that you wish to use as predictors.\n",
    "# However, for this tutorial today we will keep it simple and just use age & sex. \n",
    "# Maybe discuss with your partner ideas you have for other covariates you would like to include.\n",
    "cols_cov = ['age','sex']\n",
    "\n",
    "# which warping function to use? We can set this to None in order to fit a vanilla Gaussian noise model\n",
    "warp =  'WarpSinArcsinh'\n",
    "\n",
    "# limits for cubic B-spline basis \n",
    "# check the min & max ages of the dataframes, add 5 to the max \n",
    "# and subtract 5 from the min and adjust these variables accordingly\n",
    "xmin = 13# set this variable\n",
    "xmax = 92# set this variable\n",
    "\n",
    "# Do we want to force the model to be refit every time? \n",
    "# When training normative model from scratch like we are doing in this notebook (not re-using a pre-trained model), \n",
    "# this variable should be = True\n",
    "force_refit = True \n",
    "\n",
    "# Absolute Z treshold above which a sample is considered to be an outlier (without fitting any model)\n",
    "outlier_thresh = 7"
   ]
  },
  {
   "cell_type": "markdown",
   "id": "896842d7-8913-4137-9d86-4757c42bcf1b",
   "metadata": {
    "id": "896842d7-8913-4137-9d86-4757c42bcf1b"
   },
   "source": [
    "### Fit the models\n",
    "\n",
    "Now we fit the models. This involves looping over the IDPs we have selected. We will use a module from PCNtoolkit to set up the design matrices, containing the covariates, fixed effects for site and nonlinear basis expansion. "
   ]
  },
  {
   "cell_type": "code",
   "execution_count": null,
   "id": "a4e9b50c-574b-4e2c-a511-cc444db4393e",
   "metadata": {
    "id": "a4e9b50c-574b-4e2c-a511-cc444db4393e"
   },
   "outputs": [],
   "source": [
    "for idp_num, idp in enumerate(idp_ids): \n",
    "    print('Running IDP', idp_num, idp, ':')\n",
    "   \n",
    "    # set output dir \n",
    "    idp_dir = os.path.join(out_dir, idp)\n",
    "    os.makedirs(os.path.join(idp_dir), exist_ok=True)\n",
    "    os.chdir(idp_dir)\n",
    "    \n",
    "    # extract the response variables for training and test set\n",
    "    y_tr = df_tr[idp].to_numpy() \n",
    "    y_te = df_te[idp].to_numpy()\n",
    "    \n",
    "    # remove gross outliers and implausible values\n",
    "    yz_tr = (y_tr - np.mean(y_tr)) / np.std(y_tr)\n",
    "    yz_te = (y_te - np.mean(y_te)) / np.std(y_te)\n",
    "    nz_tr = np.bitwise_and(np.abs(yz_tr) < outlier_thresh, y_tr > 0)\n",
    "    nz_te = np.bitwise_and(np.abs(yz_te) < outlier_thresh, y_te > 0)\n",
    "    y_tr = y_tr[nz_tr]\n",
    "    y_te = y_te[nz_te]\n",
    "    \n",
    "    # write out the response variables for training and test\n",
    "    resp_file_tr = os.path.join(idp_dir, 'resp_tr.txt')\n",
    "    resp_file_te = os.path.join(idp_dir, 'resp_te.txt') \n",
    "    np.savetxt(resp_file_tr, y_tr)\n",
    "    np.savetxt(resp_file_te, y_te)\n",
    "        \n",
    "    # configure the design matrix\n",
    "    X_tr = create_design_matrix(df_tr[cols_cov].loc[nz_tr], \n",
    "                                site_ids = df_tr['site'].loc[nz_tr],\n",
    "                                basis = 'bspline', \n",
    "                                xmin = xmin, \n",
    "                                xmax = xmax)\n",
    "    X_te = create_design_matrix(df_te[cols_cov].loc[nz_te], \n",
    "                                site_ids = df_te['site'].loc[nz_te], \n",
    "                                all_sites=site_ids,\n",
    "                                basis = 'bspline', \n",
    "                                xmin = xmin, \n",
    "                                xmax = xmax)\n",
    "\n",
    "    # configure and save the covariates\n",
    "    cov_file_tr = os.path.join(idp_dir, 'cov_bspline_tr.txt')\n",
    "    cov_file_te = os.path.join(idp_dir, 'cov_bspline_te.txt')\n",
    "    np.savetxt(cov_file_tr, X_tr)\n",
    "    np.savetxt(cov_file_te, X_te)\n",
    "\n",
    "    if not force_refit and os.path.exists(os.path.join(idp_dir, 'Models', 'NM_0_0_estimate.pkl')):\n",
    "        print('Making predictions using a pre-existing model...')\n",
    "        suffix = 'predict'\n",
    "        \n",
    "        # Make prdictsion with test data\n",
    "        predict(cov_file_te, \n",
    "                alg='blr', \n",
    "                respfile=resp_file_te, \n",
    "                model_path=os.path.join(idp_dir,'Models'),\n",
    "                outputsuffix=suffix)\n",
    "    else:\n",
    "        print('Estimating the normative model...')\n",
    "        estimate(cov_file_tr, resp_file_tr, testresp=resp_file_te, \n",
    "                 testcov=cov_file_te, alg='blr', optimizer = 'l-bfgs-b', \n",
    "                 savemodel=True, warp=warp, warp_reparam=True)\n",
    "        suffix = 'estimate'"
   ]
  },
  {
   "cell_type": "markdown",
   "id": "925f77cf-c873-4047-91ac-50b9571704fd",
   "metadata": {
    "id": "925f77cf-c873-4047-91ac-50b9571704fd"
   },
   "source": [
    "### Compute error metrics\n",
    "\n",
    "In this section we compute the following error metrics for all IDPs (all evaluated on the test set):\n",
    "\n",
    "- Negative log likelihood (NLL)\n",
    "- Explained variance (EV)\n",
    "- Mean standardized log loss (MSLL)\n",
    "- Bayesian information Criteria (BIC)\n",
    "- Skew and Kurtosis of the Z-distribution"
   ]
  },
  {
   "cell_type": "code",
   "execution_count": null,
   "id": "2e9d7500-4f46-4ee1-9756-81758ae5b1d1",
   "metadata": {
    "id": "2e9d7500-4f46-4ee1-9756-81758ae5b1d1"
   },
   "outputs": [],
   "source": [
    "# initialise dataframe we will use to store quantitative metrics \n",
    "blr_metrics = pd.DataFrame(columns = ['eid', 'NLL', 'EV', 'MSLL', 'BIC','Skew','Kurtosis'])\n",
    "\n",
    "for idp_num, idp in enumerate(idp_ids): \n",
    "    idp_dir = os.path.join(out_dir, idp)\n",
    "    \n",
    "    # load the predictions and true data. We use a custom function that ensures 2d arrays\n",
    "    # equivalent to: y = np.loadtxt(filename); y = y[:, np.newaxis]\n",
    "    yhat_te = load_2d(os.path.join(idp_dir, 'yhat_' + suffix + '.txt'))\n",
    "    s2_te = load_2d(os.path.join(idp_dir, 'ys2_' + suffix + '.txt'))\n",
    "    y_te = load_2d(os.path.join(idp_dir, 'resp_te.txt'))\n",
    "    \n",
    "    with open(os.path.join(idp_dir,'Models', 'NM_0_0_estimate.pkl'), 'rb') as handle:\n",
    "        nm = pickle.load(handle) \n",
    "    \n",
    "    # compute error metrics\n",
    "    if warp is None:\n",
    "        metrics = evaluate(y_te, yhat_te)  \n",
    "        \n",
    "        # compute MSLL manually as a sanity check\n",
    "        y_tr_mean = np.array( [[np.mean(y_tr)]] )\n",
    "        y_tr_var = np.array( [[np.var(y_tr)]] )\n",
    "        MSLL = compute_MSLL(y_te, yhat_te, s2_te, y_tr_mean, y_tr_var)         \n",
    "    else:\n",
    "        warp_param = nm.blr.hyp[1:nm.blr.warp.get_n_params()+1] \n",
    "        W = nm.blr.warp\n",
    "        \n",
    "        # warp predictions\n",
    "        med_te = W.warp_predictions(np.squeeze(yhat_te), np.squeeze(s2_te), warp_param)[0]\n",
    "        med_te = med_te[:, np.newaxis]\n",
    "       \n",
    "        # evaluation metrics\n",
    "        metrics = evaluate(y_te, med_te)\n",
    "        \n",
    "        # compute MSLL manually\n",
    "        y_te_w = W.f(y_te, warp_param)\n",
    "        y_tr_w = W.f(y_tr, warp_param)\n",
    "        y_tr_mean = np.array( [[np.mean(y_tr_w)]] )\n",
    "        y_tr_var = np.array( [[np.var(y_tr_w)]] )\n",
    "        MSLL = compute_MSLL(y_te_w, yhat_te, s2_te, y_tr_mean, y_tr_var)     \n",
    "    \n",
    "    Z = np.loadtxt(os.path.join(idp_dir, 'Z_' + suffix + '.txt'))\n",
    "    [skew, sdskew, kurtosis, sdkurtosis, semean, sesd] = calibration_descriptives(Z)\n",
    "    \n",
    "    BIC = len(nm.blr.hyp) * np.log(y_tr.shape[0]) + 2 * nm.neg_log_lik\n",
    "    \n",
    "    blr_metrics.loc[len(blr_metrics)] = [idp, nm.neg_log_lik, metrics['EXPV'][0], \n",
    "                                         MSLL[0], BIC, skew, kurtosis]\n",
    "    \n",
    "display(blr_metrics)\n",
    "\n",
    "blr_metrics.to_csv(os.path.join(out_dir,'blr_metrics.csv'))"
   ]
  },
  {
   "cell_type": "code",
   "execution_count": null,
   "id": "NCpzbIwGxVWj",
   "metadata": {
    "id": "NCpzbIwGxVWj"
   },
   "outputs": [],
   "source": [
    "blr_metrics['EV'].describe()"
   ]
  },
  {
   "cell_type": "code",
   "execution_count": null,
   "id": "Et7L-t9RJl75",
   "metadata": {
    "id": "Et7L-t9RJl75"
   },
   "outputs": [],
   "source": [
    "blr_metrics['MSLL'].describe()"
   ]
  },
  {
   "cell_type": "code",
   "execution_count": null,
   "id": "s25LW4QuJqfW",
   "metadata": {
    "id": "s25LW4QuJqfW"
   },
   "outputs": [],
   "source": [
    "blr_metrics['EV'].hist()"
   ]
  },
  {
   "cell_type": "code",
   "execution_count": null,
   "id": "mBhUMsojJu5J",
   "metadata": {
    "id": "mBhUMsojJu5J"
   },
   "outputs": [],
   "source": [
    "blr_metrics['MSLL'].hist()"
   ]
  }
 ],
 "metadata": {
  "colab": {
   "name": "1_fit_normative_models.ipynb",
   "provenance": [],
   "toc_visible": true
  },
  "kernelspec": {
   "display_name": "Python 3 (ipykernel)",
   "language": "python",
   "name": "python3"
  },
  "language_info": {
   "codemirror_mode": {
    "name": "ipython",
    "version": 3
   },
   "file_extension": ".py",
   "mimetype": "text/x-python",
   "name": "python",
   "nbconvert_exporter": "python",
   "pygments_lexer": "ipython3",
   "version": "3.9.7"
  }
 },
 "nbformat": 4,
 "nbformat_minor": 5
}
